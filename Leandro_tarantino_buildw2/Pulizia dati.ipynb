{
 "cells": [
  {
   "cell_type": "code",
   "execution_count": 4,
   "id": "5abd72dd-98fe-483e-9052-1d11416ae427",
   "metadata": {},
   "outputs": [],
   "source": [
    "import pandas as pd\n",
    "import numpy as np\n",
    "province = pd.read_csv('C:/Users/leand/Desktop/bw2/covid19_italy_province_python.csv')\n",
    "province_clean = province.dropna(how='all').drop_duplicates()\n",
    "\n",
    "regioni = pd.read_csv('C:/Users/leand/Desktop/bw2/covid19_italy_region_python.csv')\n",
    "regioni_clean = regioni.dropna(how='all').drop_duplicates()\n",
    "regioni_clean['Date']=pd.to_datetime(regioni_clean['Date'])\n",
    "\n",
    "comuni = pd.read_csv('C:/Users/leand/Desktop/bw2/Comuni_python.csv',na_filter=False)\n",
    "comuni['Regione'] = comuni['Regione'].str.lower().str.capitalize()\n",
    "comuni_clean = comuni.dropna().drop_duplicates()\n",
    "\n",
    "ripartizioni = pd.read_csv('C:/Users/leand/Desktop/bw2/Ripartizione_geografica_python.csv',sep=\";\")\n",
    "ripartizioni_clean=ripartizioni.dropna(how='all')\n",
    "\n",
    "poveri_regione=pd.DataFrame()\n",
    "poveri_regione= pd.read_csv('C:/Users/leand/Desktop/poveri_regione_clean.csv')\n",
    "poveri_regione=poveri_regione.drop(['Unnamed: 0'], axis=1)\n",
    "#comuni_clean.to_csv(\"C:/Users/leand/Desktop/comuni_clean.csv\")\n",
    "#province_clean.to_csv(\"C:/Users/leand/Desktop/province_clean.csv\")\n",
    "#regioni_clean.to_csv(\"C:/Users/leand/Desktop/regioni_clean.csv\")\n",
    "#ripartizioni_clean.to_csv(\"C:/Users/leand/Desktop/Ripartizioni_clean.csv\")"
   ]
  },
  {
   "cell_type": "code",
   "execution_count": null,
   "id": "ef061845-6bcb-49e0-a079-bf351c102d41",
   "metadata": {},
   "outputs": [],
   "source": []
  }
 ],
 "metadata": {
  "kernelspec": {
   "display_name": "Python 3 (ipykernel)",
   "language": "python",
   "name": "python3"
  },
  "language_info": {
   "codemirror_mode": {
    "name": "ipython",
    "version": 3
   },
   "file_extension": ".py",
   "mimetype": "text/x-python",
   "name": "python",
   "nbconvert_exporter": "python",
   "pygments_lexer": "ipython3",
   "version": "3.11.5"
  }
 },
 "nbformat": 4,
 "nbformat_minor": 5
}
